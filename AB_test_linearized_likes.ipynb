{
 "cells": [
  {
   "cell_type": "markdown",
   "id": "ebf14daa-b0af-4616-87b4-369430430c63",
   "metadata": {},
   "source": [
    "## Анализ А/В тестирования по метрике линеаризованных лайков\n",
    "\n",
    "В этом задании будем снова исследовать данные о пользователях, участвовавших в А/В тестировании, \n",
    "которое проходило с 2023-10-25 по 2023-10-31 включительно, но теперь с помощью метрики линеаризованных лайков.\n",
    "\n",
    "В группе 2 был использован один из новых алгоритмов рекомендации постов, группа 1 использовалась в качестве контроля. \n",
    "Основная гипотеза заключается в том, что новый алгоритм во 2-й группе приведет к увеличению CTR.\n",
    "\n",
    "Что за метрика линеаризованных лайков?\n",
    "\n",
    "Вместо того, чтобы заталкивать в тест «поюзерные» CTR, можно сконструировать другую метрику и анализировать ее, но при этом гарантируется (в отличие от сглаженного CTR), что если тест на этой другой метрике «прокрасится» и увидит изменения, значит изменения есть и в метрике исходной (то есть в лайках на пользователя и в пользовательских CTR)\n",
    "\n",
    "Итак,\n",
    " - Считаем общий CTR в контрольной группе  𝐶𝑇𝑅𝑐𝑜𝑛𝑡𝑟𝑜𝑙=𝑠𝑢𝑚(𝑙𝑖𝑘𝑒𝑠)/𝑠𝑢𝑚(𝑣𝑖𝑒𝑤𝑠) \n",
    " - Посчитаем в обеих группах поюзерную метрику  𝑙𝑖𝑛𝑒𝑎𝑟𝑖𝑧𝑒𝑑_𝑙𝑖𝑘𝑒𝑠=𝑙𝑖𝑘𝑒𝑠−𝐶𝑇𝑅𝑐𝑜𝑛𝑡𝑟𝑜𝑙∗𝑣𝑖𝑒𝑤𝑠 \n",
    " - После чего сравним  t-тестом отличия в группах по метрике 𝑙𝑖𝑛𝑒𝑎𝑟𝑖𝑧𝑒𝑑_𝑙𝑖𝑘𝑒𝑠\n",
    " \n",
    "#### Задачи:\n",
    "1. Проанализировать тест между группами 0 и 3 по метрике линеаризованных лайков. Стало ли 𝑝−𝑣𝑎𝑙𝑢𝑒 меньше по сравнению с обычным CTR?\n",
    "\n",
    "2. Проанализировать тест между группами 1 и 2 по метрике линеаризованных лайков.  Стало ли 𝑝−𝑣𝑎𝑙𝑢𝑒 меньше по сравнению с обычным CTR?"
   ]
  },
  {
   "cell_type": "markdown",
   "id": "52076c10-9f84-4df6-90cb-a55891afb176",
   "metadata": {},
   "source": [
    "### 1. Подготовка к работе"
   ]
  },
  {
   "cell_type": "code",
   "execution_count": 1,
   "id": "78c6596f-4bdc-4bcc-a70c-e57c2617c2e7",
   "metadata": {},
   "outputs": [],
   "source": [
    "import pandahouse as ph\n",
    "import seaborn as sns\n",
    "import numpy as np\n",
    "from scipy import stats"
   ]
  },
  {
   "cell_type": "markdown",
   "id": "dc11a8ed-da84-4fd8-9945-0b45f3c1652c",
   "metadata": {},
   "source": [
    "### 2. Загрузка данных"
   ]
  },
  {
   "cell_type": "code",
   "execution_count": 3,
   "id": "acc9b2a1-7848-4fcc-bcfe-070b1c797b62",
   "metadata": {},
   "outputs": [],
   "source": [
    "#параметры соединения \n",
    "connection = {'host': 'https://clickhouse.lab.karpov.courses',\n",
    "'database':'simulator_20231113',\n",
    "'user':'student',\n",
    "'password':'dpo_python_2020'\n",
    "}"
   ]
  },
  {
   "cell_type": "code",
   "execution_count": 8,
   "id": "7cd4f687-759d-4179-b26a-5c71df94c94b",
   "metadata": {},
   "outputs": [],
   "source": [
    "\n",
    "q = \"\"\"\n",
    "SELECT exp_group, \n",
    "    user_id,\n",
    "    sum(action = 'like') as likes,\n",
    "    sum(action = 'view') as views,\n",
    "    likes/views as ctr\n",
    "FROM {db}.feed_actions  \n",
    "WHERE toDate(time) between '2023-10-25' and '2023-10-31'\n",
    "    and exp_group in (0, 3)\n",
    "GROUP BY exp_group, user_id\n",
    "\"\"\""
   ]
  },
  {
   "cell_type": "markdown",
   "id": "5a94af60-6e19-45ec-bc47-16d7cbf2d843",
   "metadata": {},
   "source": [
    "### 3. Анализ данных"
   ]
  },
  {
   "cell_type": "markdown",
   "id": "66f78381-10b4-43a0-889d-5d3d8732d745",
   "metadata": {},
   "source": [
    "### Проанализируем T-test между группами 0 и 3 по метрике линеаризованных лайков"
   ]
  },
  {
   "cell_type": "code",
   "execution_count": 11,
   "id": "ffc3f907-ad57-40de-8f5f-32175e8bb44a",
   "metadata": {},
   "outputs": [],
   "source": [
    "df = ph.read_clickhouse(q, connection=connection)\n",
    "\n",
    "control_ctr = df[df.exp_group == 0].likes.sum()/df[df.exp_group == 0].views.sum()\n",
    "\n",
    "df['linearized_likes'] = df['likes'] - control_ctr*df['views']"
   ]
  },
  {
   "cell_type": "code",
   "execution_count": 20,
   "id": "24d000f5-e633-4695-924c-bd26267eaa5d",
   "metadata": {},
   "outputs": [
    {
     "data": {
      "image/png": "[encoded data removed]",
      "text/plain": [
       "<Figure size 842.4x595.44 with 1 Axes>"
      ]
     },
     "metadata": {},
     "output_type": "display_data"
    }
   ],
   "source": [
    "# Сделаем графики в seaborn покрупнее\n",
    "sns.set(rc={'figure.figsize':(11.7,8.27)})\n",
    "\n",
    "# построим гистограммы распределения значений CTR после эксперимента\n",
    "groups = sns.histplot(data = df, \n",
    "              x='linearized_likes', \n",
    "              hue='exp_group', \n",
    "              palette=['y','b'],\n",
    "              alpha=0.5,\n",
    "              kde=False)"
   ]
  },
  {
   "cell_type": "markdown",
   "id": "0d1350bd-5a8f-4fe6-a368-1efd06e35c96",
   "metadata": {},
   "source": [
    "На графике видим, что линеаризованная метрика в группе 3 сдвинута относительно метрики группы 0."
   ]
  },
  {
   "cell_type": "code",
   "execution_count": 22,
   "id": "6acb7c76-af2b-4525-8081-30b8b9f7d8f6",
   "metadata": {},
   "outputs": [
    {
     "name": "stdout",
     "output_type": "stream",
     "text": [
      "T-test:\n",
      "Отвергаем нулевую гипотезу: cтатистически значимые различия есть, p-value: 6.216047483062228e-44\n"
     ]
    }
   ],
   "source": [
    "# проведем т-тест для ctr\n",
    "\n",
    "_, pvalue = stats.ttest_ind(df[df.exp_group == 0].ctr,\n",
    "                            df[df.exp_group == 3].ctr,\n",
    "                            equal_var=False)\n",
    "print('T-test:')\n",
    "if pvalue > 0.05:\n",
    "    print('Не получилось отвергнуть нулевую гипотезу: различия не обнаружены, p-value:', pvalue)\n",
    "else:\n",
    "    print('Отвергаем нулевую гипотезу: cтатистически значимые различия есть, p-value:', pvalue)"
   ]
  },
  {
   "cell_type": "code",
   "execution_count": 24,
   "id": "831494a3-7516-4f7f-9e32-b35e2408d4cb",
   "metadata": {},
   "outputs": [
    {
     "name": "stdout",
     "output_type": "stream",
     "text": [
      "1.4918137745326139e-58\n",
      "T-test:\n",
      "Отвергаем нулевую гипотезу: cтатистически значимые различия есть, p-value: 1.4918137745326139e-58\n"
     ]
    }
   ],
   "source": [
    "# проведем т-тест для новой метрики\n",
    "\n",
    "_, pvalue = stats.ttest_ind(df[df.exp_group == 0].linearized_likes,\n",
    "                            df[df.exp_group == 3].linearized_likes,\n",
    "                            equal_var=False)\n",
    "\n",
    "print('T-test:')\n",
    "if pvalue > 0.05:\n",
    "    print('Не получилось отвергнуть нулевую гипотезу: различия не обнаружены, p-value:', pvalue)\n",
    "else:\n",
    "    print('Отвергаем нулевую гипотезу: cтатистически значимые различия есть, p-value:', pvalue)"
   ]
  },
  {
   "cell_type": "markdown",
   "id": "e9110ff6-7de9-4638-aae9-0740bd4981e6",
   "metadata": {},
   "source": [
    "Для групп 0 и 2 p-value на линеаризованных метриках стал значительно меньше, чем при т-тесте на обычном CTR."
   ]
  },
  {
   "cell_type": "markdown",
   "id": "01144179-7a27-42f0-a02f-78e7c52e43f9",
   "metadata": {},
   "source": [
    "### Проанализируем T-test между группами 1 и 2 по метрике линеаризованных лайков"
   ]
  },
  {
   "cell_type": "code",
   "execution_count": 25,
   "id": "6d5a5a00-d1d7-444b-a4b1-0b13805c0de8",
   "metadata": {},
   "outputs": [],
   "source": [
    "q = \"\"\"\n",
    "SELECT exp_group, \n",
    "    user_id,\n",
    "    sum(action = 'like') as likes,\n",
    "    sum(action = 'view') as views,\n",
    "    likes/views as ctr\n",
    "FROM {db}.feed_actions  \n",
    "WHERE toDate(time) between '2023-10-25' and '2023-10-31'\n",
    "    and exp_group in (1, 2)\n",
    "GROUP BY exp_group, user_id\n",
    "\"\"\""
   ]
  },
  {
   "cell_type": "code",
   "execution_count": 26,
   "id": "a9128b2b-a2d5-44ba-b5a4-0c481890e6f8",
   "metadata": {},
   "outputs": [],
   "source": [
    "df = ph.read_clickhouse(q, connection=connection)\n",
    "\n",
    "control_ctr = df[df.exp_group == 1].likes.sum()/df[df.exp_group == 1].views.sum()\n",
    "\n",
    "df['linearized_likes'] = df['likes'] - control_ctr*df['views']"
   ]
  },
  {
   "cell_type": "code",
   "execution_count": 27,
   "id": "e17bf327-0205-4c60-9dbd-0df31d8b18e0",
   "metadata": {},
   "outputs": [
    {
     "data": {
      "image/png": "[encoded data removed]",
      "text/plain": [
       "<Figure size 842.4x595.44 with 1 Axes>"
      ]
     },
     "metadata": {},
     "output_type": "display_data"
    }
   ],
   "source": [
    "# построим гистограммы распределения значений CTR после эксперимента\n",
    "groups = sns.histplot(data = df, \n",
    "              x='linearized_likes', \n",
    "              hue='exp_group', \n",
    "              palette=['y','b'],\n",
    "              alpha=0.5,\n",
    "              kde=False)"
   ]
  },
  {
   "cell_type": "markdown",
   "id": "7d119e66-9017-48ff-9a15-b8949b7f6fda",
   "metadata": {},
   "source": [
    "Стоит обратить внимание, что распределение для группы 2 стало более нормальным. В предыдущем задании мы видели, что распределение обычного CTR было близко к бимодальному."
   ]
  },
  {
   "cell_type": "code",
   "execution_count": 28,
   "id": "9ad6e694-bcd5-4ac0-9280-13c89ca05028",
   "metadata": {},
   "outputs": [
    {
     "name": "stdout",
     "output_type": "stream",
     "text": [
      "T-test:\n",
      "Не получилось отвергнуть нулевую гипотезу: различия не обнаружены, p-value: 0.685373331140751\n"
     ]
    }
   ],
   "source": [
    "# проведем т-тест для ctr\n",
    "\n",
    "_, pvalue = stats.ttest_ind(df[df.exp_group == 1].ctr,\n",
    "                            df[df.exp_group == 2].ctr,\n",
    "                            equal_var=False)\n",
    "print('T-test:')\n",
    "if pvalue > 0.05:\n",
    "    print('Не получилось отвергнуть нулевую гипотезу: различия не обнаружены, p-value:', pvalue)\n",
    "else:\n",
    "    print('Отвергаем нулевую гипотезу: cтатистически значимые различия есть, p-value:', pvalue)"
   ]
  },
  {
   "cell_type": "code",
   "execution_count": 29,
   "id": "8f263143-de1a-4f4e-91fb-0fc37cf61329",
   "metadata": {},
   "outputs": [
    {
     "name": "stdout",
     "output_type": "stream",
     "text": [
      "T-test:\n",
      "Отвергаем нулевую гипотезу: cтатистически значимые различия есть, p-value: 2.9805064038668164e-09\n"
     ]
    }
   ],
   "source": [
    "# проведем т-тест для новой метрики\n",
    "\n",
    "_, pvalue = stats.ttest_ind(df[df.exp_group == 1].linearized_likes,\n",
    "                            df[df.exp_group == 2].linearized_likes,\n",
    "                            equal_var=False)\n",
    "\n",
    "print('T-test:')\n",
    "if pvalue > 0.05:\n",
    "    print('Не получилось отвергнуть нулевую гипотезу: различия не обнаружены, p-value:', pvalue)\n",
    "else:\n",
    "    print('Отвергаем нулевую гипотезу: cтатистически значимые различия есть, p-value:', pvalue)"
   ]
  },
  {
   "cell_type": "markdown",
   "id": "61b719b9-ae64-40b4-ab90-aa31a53957a3",
   "metadata": {},
   "source": [
    "Видим, что т-тест на линеаризованных метриках показал, что различия есть в отличие от т-теста на обычном CTR."
   ]
  },
  {
   "cell_type": "markdown",
   "id": "eba2a575-5efb-43f1-9e55-f645f58a9732",
   "metadata": {},
   "source": [
    "### Выводы\n",
    "\n",
    "Метод с линеаризованными метриками позволил сделать T-test более чувствительным без сложных вычислений:\n",
    " - для групп 0 и 2 p-value стал значительно меньше;\n",
    " - для групп 1 и 2 разница p-value оказалась ещё более значительной и позволила обнаружить статистически значимые различия в отличии от т-теста на обычном CTR."
   ]
  }
 ],
 "metadata": {
  "kernelspec": {
   "display_name": "Python 3 (ipykernel)",
   "language": "python",
   "name": "python3"
  },
  "language_info": {
   "codemirror_mode": {
    "name": "ipython",
    "version": 3
   },
   "file_extension": ".py",
   "mimetype": "text/x-python",
   "name": "python",
   "nbconvert_exporter": "python",
   "pygments_lexer": "ipython3",
   "version": "3.8.10"
  }
 },
 "nbformat": 4,
 "nbformat_minor": 5
}
