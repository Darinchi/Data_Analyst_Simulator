{
 "cells": [
  {
   "cell_type": "markdown",
   "id": "2b746c20-cf18-480b-9098-a4f7a6f1dee3",
   "metadata": {
    "tags": []
   },
   "source": [
    "## Корректно ли работает система сплитования? АА-тест.\n",
    "\n",
    "При проведении АА-теста было бы здорово убедиться в том, что наша система сплитования работает корректно, и ключевая метрика не отличается между 0 и 1 группой не только в конкретно нашем АА-тесте, но и в целом.\n",
    "\n",
    "У нас есть данные А/А-теста с '2023-10-18' по '2023-10-24'. \n",
    "\n",
    "Сделаем симуляцию, как будто мы провели 10000 А/А-тестов. На каждой итерации  сформируем подвыборки без повторения в 500 юзеров из 2 и 3 экспериментальной группы, а затем проведем сравнение этих подвыборок t-testом."
   ]
  },
  {
   "cell_type": "markdown",
   "id": "66e3d15d-32c8-451b-8662-1a635782fbb4",
   "metadata": {},
   "source": [
    "### 1. Подготовка к работе"
   ]
  },
  {
   "cell_type": "code",
   "execution_count": 1,
   "id": "38331d56-acd8-4731-8be7-3d0d29213d6b",
   "metadata": {},
   "outputs": [],
   "source": [
    "# импортируем необходимые библиотеки\n",
    "import pandas as pd\n",
    "import pandahouse as ph\n",
    "import seaborn as sns\n",
    "from scipy import stats\n",
    "import numpy as np"
   ]
  },
  {
   "cell_type": "markdown",
   "id": "5d88a486-a525-40c5-929a-ce53094c55fc",
   "metadata": {},
   "source": [
    "### 2. Загрузка данных"
   ]
  },
  {
   "cell_type": "code",
   "execution_count": 2,
   "id": "f7ffa27a-f5c3-4f60-aa51-b8d9e1145ae2",
   "metadata": {},
   "outputs": [],
   "source": [
    "#параметры соединения \n",
    "connection = {'host': 'https://clickhouse.lab.karpov.courses',\n",
    "'database':'simulator_20231113',\n",
    "'user':'student',\n",
    "'password':'dpo_python_2020'\n",
    "}"
   ]
  },
  {
   "cell_type": "code",
   "execution_count": 3,
   "id": "b42c7e3e-29ee-401d-939b-687806eca9e1",
   "metadata": {},
   "outputs": [],
   "source": [
    "#текст запроса\n",
    "query = '''\n",
    "select exp_group, \n",
    "user_id,\n",
    "sum(action = 'view') as views,\n",
    "sum(action = 'like') as likes,\n",
    "likes/views as ctr\n",
    "from {db}.feed_actions\n",
    "where toDate(time) between '2023-10-18' and '2023-10-24'\n",
    "  and exp_group in (2,3)\n",
    "group by exp_group, user_id\n",
    "'''\n",
    "\n",
    "# эта функция выполнит запрос и запишет его результат в pandas DataFrame\n",
    "df = ph.read_clickhouse(query, connection=connection)"
   ]
  },
  {
   "cell_type": "code",
   "execution_count": 4,
   "id": "a8b85fff-292d-4be6-b7ab-bc42db65085f",
   "metadata": {},
   "outputs": [
    {
     "data": {
      "text/html": [
       "<div>\n",
       "<style scoped>\n",
       "    .dataframe tbody tr th:only-of-type {\n",
       "        vertical-align: middle;\n",
       "    }\n",
       "\n",
       "    .dataframe tbody tr th {\n",
       "        vertical-align: top;\n",
       "    }\n",
       "\n",
       "    .dataframe thead th {\n",
       "        text-align: right;\n",
       "    }\n",
       "</style>\n",
       "<table border=\"1\" class=\"dataframe\">\n",
       "  <thead>\n",
       "    <tr style=\"text-align: right;\">\n",
       "      <th></th>\n",
       "      <th>exp_group</th>\n",
       "      <th>user_id</th>\n",
       "      <th>views</th>\n",
       "      <th>likes</th>\n",
       "      <th>ctr</th>\n",
       "    </tr>\n",
       "  </thead>\n",
       "  <tbody>\n",
       "    <tr>\n",
       "      <th>0</th>\n",
       "      <td>3</td>\n",
       "      <td>115383</td>\n",
       "      <td>248</td>\n",
       "      <td>38</td>\n",
       "      <td>0.153226</td>\n",
       "    </tr>\n",
       "    <tr>\n",
       "      <th>1</th>\n",
       "      <td>3</td>\n",
       "      <td>10326</td>\n",
       "      <td>132</td>\n",
       "      <td>24</td>\n",
       "      <td>0.181818</td>\n",
       "    </tr>\n",
       "    <tr>\n",
       "      <th>2</th>\n",
       "      <td>3</td>\n",
       "      <td>123580</td>\n",
       "      <td>122</td>\n",
       "      <td>25</td>\n",
       "      <td>0.204918</td>\n",
       "    </tr>\n",
       "    <tr>\n",
       "      <th>3</th>\n",
       "      <td>2</td>\n",
       "      <td>131473</td>\n",
       "      <td>98</td>\n",
       "      <td>19</td>\n",
       "      <td>0.193878</td>\n",
       "    </tr>\n",
       "    <tr>\n",
       "      <th>4</th>\n",
       "      <td>2</td>\n",
       "      <td>23985</td>\n",
       "      <td>44</td>\n",
       "      <td>12</td>\n",
       "      <td>0.272727</td>\n",
       "    </tr>\n",
       "  </tbody>\n",
       "</table>\n",
       "</div>"
      ],
      "text/plain": [
       "   exp_group  user_id  views  likes       ctr\n",
       "0          3   115383    248     38  0.153226\n",
       "1          3    10326    132     24  0.181818\n",
       "2          3   123580    122     25  0.204918\n",
       "3          2   131473     98     19  0.193878\n",
       "4          2    23985     44     12  0.272727"
      ]
     },
     "execution_count": 4,
     "metadata": {},
     "output_type": "execute_result"
    }
   ],
   "source": [
    "df.head()"
   ]
  },
  {
   "cell_type": "markdown",
   "id": "d2f55bd6-ad96-41a3-a974-ca87a5e44bb2",
   "metadata": {},
   "source": [
    "### 3. Анализ данных"
   ]
  },
  {
   "cell_type": "markdown",
   "id": "63c513b6-ce1f-4f4c-89a3-9e4535ac4ad7",
   "metadata": {},
   "source": [
    "Отобразим на графиках распределение ctr 2 и 3 группы"
   ]
  },
  {
   "cell_type": "code",
   "execution_count": 5,
   "id": "fde1b72a-a1a8-4018-a291-ea8e8f43d413",
   "metadata": {},
   "outputs": [
    {
     "data": {
      "text/plain": [
       "<seaborn.axisgrid.FacetGrid at 0x7f1c1eab2be0>"
      ]
     },
     "execution_count": 5,
     "metadata": {},
     "output_type": "execute_result"
    },
    {
     "data": {
      "image/png": "[encoded data removed]",
      "text/plain": [
       "<Figure size 360x360 with 1 Axes>"
      ]
     },
     "metadata": {
      "needs_background": "light"
     },
     "output_type": "display_data"
    }
   ],
   "source": [
    "# Распределение экспериментальной группы 2\n",
    "sns.displot(df[df.exp_group == 2].ctr, kde = False)"
   ]
  },
  {
   "cell_type": "code",
   "execution_count": 6,
   "id": "11e06c34-8db2-4e9f-bc7e-a21786b3eb0b",
   "metadata": {},
   "outputs": [
    {
     "data": {
      "text/plain": [
       "<seaborn.axisgrid.FacetGrid at 0x7f1c1c650880>"
      ]
     },
     "execution_count": 6,
     "metadata": {},
     "output_type": "execute_result"
    },
    {
     "data": {
      "image/png": "[encoded data removed]",
      "text/plain": [
       "<Figure size 360x360 with 1 Axes>"
      ]
     },
     "metadata": {
      "needs_background": "light"
     },
     "output_type": "display_data"
    }
   ],
   "source": [
    "# Распределение экспериментальной группы 3\n",
    "sns.displot(df[df.exp_group == 3].ctr, kde = False)"
   ]
  },
  {
   "cell_type": "markdown",
   "id": "c5dfebad-8758-4f05-8b78-0d7a5b526c29",
   "metadata": {},
   "source": [
    "Xарактер распределения и медиана схожи у обеих групп. Явных визуальных различий в распределениях между экспериментальными группами нет"
   ]
  },
  {
   "cell_type": "code",
   "execution_count": 5,
   "id": "b7dcfcd0-4567-4474-b0af-678c3b57c2b6",
   "metadata": {},
   "outputs": [],
   "source": [
    "group_A = df[df.exp_group == 2].copy()\n",
    "group_B = df[df.exp_group == 3].copy()"
   ]
  },
  {
   "cell_type": "code",
   "execution_count": 6,
   "id": "864f0c7d-fb6f-4325-9b40-06e2e803ea5b",
   "metadata": {},
   "outputs": [],
   "source": [
    "# Симуляция 10000 АА-тестов на выборках по 500 пользователей из каждой группы\n",
    "n_tests = 10000\n",
    "n_samples = 500\n",
    "p_values_list = []\n",
    "for i in range(n_tests):\n",
    "    group_2 = df[df['exp_group']==2].ctr.sample(n_samples, replace=True)\n",
    "    group_3 = df[df['exp_group']==3].ctr.sample(n_samples, replace=True)\n",
    "    # Т-тест\n",
    "    p_value = stats.ttest_ind(group_2, group_3, equal_var=False)[1]\n",
    "    p_values_list.append(p_value)"
   ]
  },
  {
   "cell_type": "code",
   "execution_count": 7,
   "id": "3ddb4967-55b2-459a-afcd-556768b3c8d9",
   "metadata": {},
   "outputs": [
    {
     "data": {
      "image/png": "[encoded data removed]",
      "text/plain": [
       "<Figure size 432x288 with 1 Axes>"
      ]
     },
     "metadata": {
      "needs_background": "light"
     },
     "output_type": "display_data"
    }
   ],
   "source": [
    "# построим гистограмму распределения получившихся 10000 p-values   \n",
    "ax = sns.histplot(p_values_list, bins=20)"
   ]
  },
  {
   "cell_type": "code",
   "execution_count": 9,
   "id": "e663cfe7-0958-4dbe-ba1f-3d4ba95b997f",
   "metadata": {},
   "outputs": [
    {
     "data": {
      "text/plain": [
       "0.0507"
      ]
     },
     "execution_count": 9,
     "metadata": {},
     "output_type": "execute_result"
    }
   ],
   "source": [
    "# посчитаем, какой процент p-values оказался меньше либо равен 0.05\n",
    "\n",
    "sum(np.array(p_values_list)<0.05)/10000"
   ]
  },
  {
   "cell_type": "markdown",
   "id": "a3752a4d-94fe-4c9f-baa3-2518d537b3ab",
   "metadata": {},
   "source": [
    "##### Вывод: \n",
    "Полученная гистограмма позволяет сделать вывод, что p-value распространено равномерно.\n",
    "К тому же 5% p-values оказалось меньше либо равно заданному 0.05. Таким образом, система сплитования работает корректно."
   ]
  }
 ],
 "metadata": {
  "kernelspec": {
   "display_name": "Python 3 (ipykernel)",
   "language": "python",
   "name": "python3"
  },
  "language_info": {
   "codemirror_mode": {
    "name": "ipython",
    "version": 3
   },
   "file_extension": ".py",
   "mimetype": "text/x-python",
   "name": "python",
   "nbconvert_exporter": "python",
   "pygments_lexer": "ipython3",
   "version": "3.8.10"
  }
 },
 "nbformat": 4,
 "nbformat_minor": 5
}
