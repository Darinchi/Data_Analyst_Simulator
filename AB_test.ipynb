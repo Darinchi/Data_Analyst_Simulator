{
 "cells": [
  {
   "cell_type": "markdown",
   "id": "07b2a35b-45da-495d-9391-5cc44355250c",
   "metadata": {},
   "source": [
    "## Анализ А/В тестирования\n",
    "\n",
    "В этом задании будем исследовать данные о пользователях, участвовавших в А/В тестировании, \n",
    "которое проходило с 2023-10-25 по 2023-10-31 включительно. Для эксперимента были задействованы 2 и 1 группы. \n",
    "\n",
    "В группе 2 был использован один из новых алгоритмов рекомендации постов, группа 1 использовалась в качестве контроля. \n",
    "Основная гипотеза заключается в том, что новый алгоритм во 2-й группе приведет к увеличению CTR. \n",
    "\n",
    "#### Задачи:\n",
    "1. Выбрать метод анализа и сравнить CTR в двух группах.\n",
    "\n",
    "2. Написать рекомендацию, будем ли мы раскатывать новый алгоритм на всех новых пользователей."
   ]
  },
  {
   "cell_type": "markdown",
   "id": "a08edc7c-b542-46dd-8fc9-5f6b38577e63",
   "metadata": {},
   "source": [
    "### 1. Подготовка к работе"
   ]
  },
  {
   "cell_type": "code",
   "execution_count": 1,
   "id": "1553deb4-112f-4b7e-a0e5-28e2cec1da95",
   "metadata": {},
   "outputs": [],
   "source": [
    "import pandas as pd\n",
    "import pandahouse as ph\n",
    "import seaborn as sns\n",
    "import matplotlib.pyplot as plt\n",
    "from scipy import stats\n",
    "import numpy as np\n",
    "import statsmodels.api as sm\n",
    "%matplotlib inline"
   ]
  },
  {
   "cell_type": "markdown",
   "id": "25c57026-be10-4a9c-ba13-543654265ba8",
   "metadata": {},
   "source": [
    "### 2. Загрузка данных"
   ]
  },
  {
   "cell_type": "code",
   "execution_count": 2,
   "id": "f1b3f177-411f-4da8-b977-f2d8f79d2435",
   "metadata": {},
   "outputs": [],
   "source": [
    "#параметры соединения \n",
    "connection = {'host': 'https://clickhouse.lab.karpov.courses',\n",
    "'database':'simulator_20231113',\n",
    "'user':'student',\n",
    "'password':'dpo_python_2020'\n",
    "}"
   ]
  },
  {
   "cell_type": "code",
   "execution_count": 3,
   "id": "c614fc39-6878-4fa1-a07a-466642f12fae",
   "metadata": {},
   "outputs": [
    {
     "data": {
      "text/html": [
       "<div>\n",
       "<style scoped>\n",
       "    .dataframe tbody tr th:only-of-type {\n",
       "        vertical-align: middle;\n",
       "    }\n",
       "\n",
       "    .dataframe tbody tr th {\n",
       "        vertical-align: top;\n",
       "    }\n",
       "\n",
       "    .dataframe thead th {\n",
       "        text-align: right;\n",
       "    }\n",
       "</style>\n",
       "<table border=\"1\" class=\"dataframe\">\n",
       "  <thead>\n",
       "    <tr style=\"text-align: right;\">\n",
       "      <th></th>\n",
       "      <th>user_id</th>\n",
       "      <th>likes</th>\n",
       "      <th>views</th>\n",
       "      <th>ctr</th>\n",
       "    </tr>\n",
       "    <tr>\n",
       "      <th>exp_group</th>\n",
       "      <th></th>\n",
       "      <th></th>\n",
       "      <th></th>\n",
       "      <th></th>\n",
       "    </tr>\n",
       "  </thead>\n",
       "  <tbody>\n",
       "    <tr>\n",
       "      <th>1</th>\n",
       "      <td>10020</td>\n",
       "      <td>10020</td>\n",
       "      <td>10020</td>\n",
       "      <td>10020</td>\n",
       "    </tr>\n",
       "    <tr>\n",
       "      <th>2</th>\n",
       "      <td>9877</td>\n",
       "      <td>9877</td>\n",
       "      <td>9877</td>\n",
       "      <td>9877</td>\n",
       "    </tr>\n",
       "  </tbody>\n",
       "</table>\n",
       "</div>"
      ],
      "text/plain": [
       "           user_id  likes  views    ctr\n",
       "exp_group                              \n",
       "1            10020  10020  10020  10020\n",
       "2             9877   9877   9877   9877"
      ]
     },
     "execution_count": 3,
     "metadata": {},
     "output_type": "execute_result"
    }
   ],
   "source": [
    "q = \"\"\"\n",
    "SELECT exp_group, \n",
    "    user_id,\n",
    "    sum(action = 'like') as likes,\n",
    "    sum(action = 'view') as views,\n",
    "    likes/views as ctr\n",
    "FROM {db}.feed_actions \n",
    "WHERE toDate(time) between '2023-10-25' and '2023-10-31'\n",
    "    and exp_group in (1,2)\n",
    "GROUP BY exp_group, user_id\n",
    "\"\"\"\n",
    "\n",
    "df = ph.read_clickhouse(q, connection=connection)\n",
    "\n",
    "df.groupby('exp_group').count()"
   ]
  },
  {
   "cell_type": "markdown",
   "id": "3a873a7a-bf59-4ddd-bc25-f90468cf76be",
   "metadata": {},
   "source": [
    "### 3. Анализ данных"
   ]
  },
  {
   "cell_type": "markdown",
   "id": "cdb34643-e2e8-4fb9-a3bf-40e300ae3cf3",
   "metadata": {},
   "source": [
    "Отобразим на графиках распределение CTR 1 и 2 групп после эксперимента"
   ]
  },
  {
   "cell_type": "code",
   "execution_count": 4,
   "id": "01ed37ee-6cc1-47e9-8d70-382c0ebfdf37",
   "metadata": {},
   "outputs": [
    {
     "data": {
      "image/png": "[encoded data removed]",
      "text/plain": [
       "<Figure size 842.4x595.44 with 1 Axes>"
      ]
     },
     "metadata": {},
     "output_type": "display_data"
    }
   ],
   "source": [
    "# Сделаем графики в seaborn покрупнее\n",
    "sns.set(rc={'figure.figsize':(11.7,8.27)})\n",
    "\n",
    "# построим гистограммы распределения значений CTR после эксперимента\n",
    "groups = sns.histplot(data = df, \n",
    "              x='ctr', \n",
    "              hue='exp_group', \n",
    "              palette = ['r', 'b'],\n",
    "              alpha=0.5,\n",
    "              kde=False)"
   ]
  },
  {
   "cell_type": "code",
   "execution_count": 7,
   "id": "59d7ed5b-a305-46fa-a9df-727f6b35b5ab",
   "metadata": {},
   "outputs": [
    {
     "data": {
      "text/html": [
       "<div>\n",
       "<style scoped>\n",
       "    .dataframe tbody tr th:only-of-type {\n",
       "        vertical-align: middle;\n",
       "    }\n",
       "\n",
       "    .dataframe tbody tr th {\n",
       "        vertical-align: top;\n",
       "    }\n",
       "\n",
       "    .dataframe thead th {\n",
       "        text-align: right;\n",
       "    }\n",
       "</style>\n",
       "<table border=\"1\" class=\"dataframe\">\n",
       "  <thead>\n",
       "    <tr style=\"text-align: right;\">\n",
       "      <th></th>\n",
       "      <th>ctr</th>\n",
       "    </tr>\n",
       "    <tr>\n",
       "      <th>exp_group</th>\n",
       "      <th></th>\n",
       "    </tr>\n",
       "  </thead>\n",
       "  <tbody>\n",
       "    <tr>\n",
       "      <th>1</th>\n",
       "      <td>0.216774</td>\n",
       "    </tr>\n",
       "    <tr>\n",
       "      <th>2</th>\n",
       "      <td>0.216102</td>\n",
       "    </tr>\n",
       "  </tbody>\n",
       "</table>\n",
       "</div>"
      ],
      "text/plain": [
       "                ctr\n",
       "exp_group          \n",
       "1          0.216774\n",
       "2          0.216102"
      ]
     },
     "execution_count": 7,
     "metadata": {},
     "output_type": "execute_result"
    }
   ],
   "source": [
    "# и посчитаем среднее значение CTR для обеих групп\n",
    "df[['ctr','exp_group']].groupby('exp_group').mean()"
   ]
  },
  {
   "cell_type": "markdown",
   "id": "0c2c8056-39b2-4ff8-a1d2-4aadd2573c51",
   "metadata": {},
   "source": [
    "Среднее CTR в группах значительно не отличается. Однако, распределение CTR в экспериментальной группе значительно отличается от распределения в контрольной группе. Его даже можно отнести к бимодальному. Мы видим, что для части группы пользователей CTR стал ниже, а для другой наоборот вырос."
   ]
  },
  {
   "cell_type": "markdown",
   "id": "261258cc-203c-476c-a3e3-e8a7f4951807",
   "metadata": {
    "tags": []
   },
   "source": [
    "### 3.1 Cравнение CTR статистическими тестами\n",
    "\n",
    "\n",
    "*Гипотеза:* Выдвинем гипотезу, что при использовании нового алгоритма в экспериментальной группе 1, CTR увеличится.\n",
    "\n",
    "*Нулевая гипотеза:* средние значения CTR в контрольной и экспериментальной группaх равны.\n",
    "\n",
    "*Альтернативная гипотеза:* средние значения CTR в экспериментальной группе выше значений в контрольной.\n",
    "\n",
    "*Пороговое значение p-value:* 0.05\n",
    "\n",
    "#### t-test\n"
   ]
  },
  {
   "cell_type": "code",
   "execution_count": 8,
   "id": "cfbbda31-5c05-476e-9d22-9bcf02e04d1a",
   "metadata": {},
   "outputs": [
    {
     "name": "stdout",
     "output_type": "stream",
     "text": [
      "T-test:\n",
      "Не получилось отвергнуть нулевую гипотезу: различия не обнаружены, p-value: 0.685373331140751\n"
     ]
    }
   ],
   "source": [
    "_, pvalue = stats.ttest_ind(df[df.exp_group == 1].ctr,\n",
    "                            df[df.exp_group == 2].ctr,\n",
    "                            equal_var=False)\n",
    "print('T-test:')\n",
    "if pvalue > 0.05:\n",
    "    print('Не получилось отвергнуть нулевую гипотезу: различия не обнаружены, p-value:', pvalue)\n",
    "else:\n",
    "    print('Отвергаем нулевую гипотезу: cтатистически значимые различия есть, p-value:', pvalue)"
   ]
  },
  {
   "cell_type": "markdown",
   "id": "e6333e82-6619-4fbf-994d-ccd158be5f65",
   "metadata": {},
   "source": [
    "T-тест не смог обнаружить различия CTR в контрольной и экспериментальной группе. Возможно, это из-за того, что распределение в экспериментальной группе бимодальное.\n",
    "\n",
    "Попробуем «сгладить» наши оценки CTR и снова применить т-тест."
   ]
  },
  {
   "cell_type": "markdown",
   "id": "94979d52-d332-4563-8546-5b5d3d43c19d",
   "metadata": {
    "tags": []
   },
   "source": [
    "#### t-test на \"сглаженном\" CTR (α=5), метод Smoothed"
   ]
  },
  {
   "cell_type": "code",
   "execution_count": 9,
   "id": "a48661c4-da0e-4241-afbe-855586b1c9ea",
   "metadata": {},
   "outputs": [],
   "source": [
    "#функция расчета сглаженного ctr \n",
    "def get_smothed_ctr(user_likes, user_views, global_ctr, alpha):\n",
    "    smothed_ctr = (user_likes + alpha * global_ctr) / (user_views + alpha)\n",
    "    return smothed_ctr\n",
    "\n",
    "#рассчитаем общий CTR для двух групп\n",
    "global_ctr_1 = df[df.exp_group == 1].likes.sum()/df[df.exp_group == 1].views.sum()\n",
    "global_ctr_2 = df[df.exp_group == 2].likes.sum()/df[df.exp_group == 2].views.sum()"
   ]
  },
  {
   "cell_type": "code",
   "execution_count": 10,
   "id": "02beb98a-2c6e-4289-b351-dc67b3545a4d",
   "metadata": {},
   "outputs": [],
   "source": [
    "group1 = df[df.exp_group == 1].copy()\n",
    "group2 = df[df.exp_group == 2].copy()"
   ]
  },
  {
   "cell_type": "code",
   "execution_count": 16,
   "id": "51e15133-e68f-43db-9add-87eed8346555",
   "metadata": {},
   "outputs": [
    {
     "data": {
      "image/png": "[encoded data removed]",
      "text/plain": [
       "<Figure size 842.4x595.44 with 1 Axes>"
      ]
     },
     "metadata": {},
     "output_type": "display_data"
    }
   ],
   "source": [
    "sns.histplot(group1.ctr, \n",
    "             kde = False);"
   ]
  },
  {
   "cell_type": "code",
   "execution_count": 12,
   "id": "27d88d52-392d-4144-b712-a9d839f75a8d",
   "metadata": {},
   "outputs": [],
   "source": [
    "#посчитаем сглаженный ctr для двух групп\n",
    "group1['smothed_ctr'] = df.apply(\n",
    "    lambda x: get_smothed_ctr(x['likes'], x['views'], global_ctr_1, 5), axis=1)\n",
    "group2['smothed_ctr'] = df.apply(\n",
    "    lambda x: get_smothed_ctr(x['likes'], x['views'], global_ctr_2, 5), axis=1)"
   ]
  },
  {
   "cell_type": "code",
   "execution_count": 13,
   "id": "789f3f32-1d47-4a21-bd8a-53cd462e2675",
   "metadata": {},
   "outputs": [
    {
     "data": {
      "image/png": "[encoded data removed]",
      "text/plain": [
       "<Figure size 842.4x595.44 with 1 Axes>"
      ]
     },
     "metadata": {},
     "output_type": "display_data"
    }
   ],
   "source": [
    "sns.histplot(group1.smothed_ctr, \n",
    "             kde = False);"
   ]
  },
  {
   "cell_type": "code",
   "execution_count": 19,
   "id": "f89b2b8e-7757-4e3f-880c-45112a9882e8",
   "metadata": {},
   "outputs": [
    {
     "name": "stdout",
     "output_type": "stream",
     "text": [
      "T-test на сглаженном ctr:\n",
      "Не получилось отвергнуть нулевую гипотезу: различия не обнаружены, p-value: 0.05166679015318526\n"
     ]
    }
   ],
   "source": [
    "#t-тест на сглаженном ctr\n",
    "_, pvalue = stats.ttest_ind(group1.smothed_ctr,\n",
    "                             group2.smothed_ctr,\n",
    "                             equal_var=False)\n",
    "\n",
    "print('T-test на сглаженном ctr:')\n",
    "if pvalue > 0.05:\n",
    "    print('Не получилось отвергнуть нулевую гипотезу: различия не обнаружены, p-value:', pvalue)\n",
    "else:\n",
    "    print('Отвергаем нулевую гипотезу: cтатистически значимые различия есть, p-value:', pvalue)"
   ]
  },
  {
   "cell_type": "markdown",
   "id": "534a76ee-947d-47a5-a470-dcb77735ed66",
   "metadata": {},
   "source": [
    "Вывод из т-теста для \"сглаженного\" CTR такой же, но всё же значение p-value получилось гораздо ниже и близко к α=5%."
   ]
  },
  {
   "cell_type": "markdown",
   "id": "6385d356-f15f-4470-b3be-e2fc729ee29d",
   "metadata": {},
   "source": [
    "#### Тест Манна-Уитни\n",
    "\n",
    "Нулевая гипотеза: P(А > В) = P(А < В)"
   ]
  },
  {
   "cell_type": "code",
   "execution_count": 18,
   "id": "743b0868-81c0-430a-9c0c-fd727ba3fac6",
   "metadata": {},
   "outputs": [
    {
     "name": "stdout",
     "output_type": "stream",
     "text": [
      "тест Манна-Уитни:\n",
      "Статистически значимые различия, p-value: 4.632205841806026e-45\n"
     ]
    }
   ],
   "source": [
    "_, pvalue = stats.mannwhitneyu(df[df.exp_group == 1].ctr,\n",
    "                               df[df.exp_group == 2].ctr,\n",
    "                               alternative = 'two-sided')\n",
    "\n",
    "print('тест Манна-Уитни:')\n",
    "if pvalue > 0.05:\n",
    "    print('Различия не обнаружены, p-value:', pvalue)\n",
    "else:\n",
    "    print('Статистически значимые различия, p-value:', pvalue)"
   ]
  },
  {
   "cell_type": "markdown",
   "id": "b3bd1ede-c63f-4f5a-a441-a077eb5630a8",
   "metadata": {},
   "source": [
    "Тест Манна-Уитни показал противоположный результат. В данном случае критерий Манна-Уитни и полученный результат предпочтитетелен для использования, т.к. распределение CTR в экспериментальной группы нельзя отнести к нормальному."
   ]
  },
  {
   "cell_type": "markdown",
   "id": "cd47313f-486c-4f95-9e95-058f972c3f98",
   "metadata": {},
   "source": [
    "#### Пуассоновский бутстреп"
   ]
  },
  {
   "cell_type": "code",
   "execution_count": 20,
   "id": "d36e170e-bcff-40aa-a08a-08c30898d986",
   "metadata": {},
   "outputs": [],
   "source": [
    "#функция рассчета пуассоновского бутстрепа\n",
    "def bootstrap(likes1, views1, likes2, views2, n_bootstrap=2000):\n",
    "\n",
    "    poisson_bootstraps1 = stats.poisson(1).rvs(\n",
    "        (n_bootstrap, len(likes1))).astype(np.int64)\n",
    "\n",
    "    poisson_bootstraps2 = stats.poisson(1).rvs(\n",
    "            (n_bootstrap, len(likes2))).astype(np.int64)\n",
    "    \n",
    "    globalCTR1 = (poisson_bootstraps1*likes1).sum(axis=1)/(poisson_bootstraps1*views1).sum(axis=1)\n",
    "    \n",
    "    globalCTR2 = (poisson_bootstraps2*likes2).sum(axis=1)/(poisson_bootstraps2*views2).sum(axis=1)\n",
    "\n",
    "    return globalCTR1, globalCTR2"
   ]
  },
  {
   "cell_type": "code",
   "execution_count": 21,
   "id": "bf7b4656-e5d0-4bf2-92ae-bc9387bc3645",
   "metadata": {},
   "outputs": [],
   "source": [
    "likes1 = df[df.exp_group == 1].likes.to_numpy()\n",
    "views1 = df[df.exp_group == 1].views.to_numpy()\n",
    "likes2 = df[df.exp_group == 2].likes.to_numpy()\n",
    "views2 = df[df.exp_group == 2].views.to_numpy()\n",
    "\n",
    "ctr1, ctr2 = bootstrap(likes1, views1, likes2, views2)"
   ]
  },
  {
   "cell_type": "code",
   "execution_count": 24,
   "id": "7b3c8102-9306-4684-802d-32b8d2b6083b",
   "metadata": {},
   "outputs": [
    {
     "data": {
      "image/png": "[encoded data removed]",
      "text/plain": [
       "<Figure size 842.4x595.44 with 1 Axes>"
      ]
     },
     "metadata": {},
     "output_type": "display_data"
    }
   ],
   "source": [
    "# построим распределение полученных ctr\n",
    "sns.histplot(ctr1)\n",
    "sns.histplot(ctr2);"
   ]
  },
  {
   "cell_type": "code",
   "execution_count": 25,
   "id": "8438437b-a602-4d34-807d-de68e6f56fda",
   "metadata": {},
   "outputs": [
    {
     "data": {
      "image/png": "[encoded data removed]",
      "text/plain": [
       "<Figure size 842.4x595.44 with 1 Axes>"
      ]
     },
     "metadata": {},
     "output_type": "display_data"
    }
   ],
   "source": [
    "#Разница между глобальными CTR\n",
    "sns.histplot(ctr1 - ctr2);"
   ]
  },
  {
   "cell_type": "markdown",
   "id": "1a9f7882-a411-4312-9cd9-d95f40cde789",
   "metadata": {},
   "source": [
    "Анализ с помощью пуассоновского бутстрепа показал, что в контрольной группе лучшие результаты по CTR, чем в экспериментальной."
   ]
  },
  {
   "cell_type": "markdown",
   "id": "9684239a-355c-482d-91f1-1f3c69bf3edd",
   "metadata": {},
   "source": [
    "### t-тест и тест Манна-Уитни поверх бакетного преобразования"
   ]
  },
  {
   "cell_type": "code",
   "execution_count": 26,
   "id": "e2163b33-c7e0-4391-a52c-c15011069cb7",
   "metadata": {},
   "outputs": [],
   "source": [
    "# тест Манна-Уитни поверх бакетного преобразования\n",
    "\n",
    "q = \"\"\"\n",
    "\n",
    "SELECT exp_group, \n",
    "    bucket,\n",
    "    sum(likes)/sum(views) as bucket_ctr\n",
    "FROM (SELECT exp_group, \n",
    "        xxHash64(user_id) % 50 as bucket,\n",
    "        user_id,\n",
    "        sum(action = 'like') as likes,\n",
    "        sum(action = 'view') as views,\n",
    "        likes/views as ctr\n",
    "    FROM simulator_20231020.feed_actions \n",
    "    WHERE toDate(time) between '2023-10-25' and '2023-10-31'\n",
    "    and exp_group in (1,2)\n",
    "    GROUP BY exp_group, bucket, user_id)\n",
    "GROUP BY exp_group, bucket\n",
    "\"\"\"\n",
    "\n",
    "df_bucket = ph.read_clickhouse(q, connection=connection)"
   ]
  },
  {
   "cell_type": "code",
   "execution_count": 34,
   "id": "361ad280-a349-417a-9ee6-0bd05a0219c4",
   "metadata": {},
   "outputs": [
    {
     "data": {
      "image/png": "[encoded data removed]",
      "text/plain": [
       "<Figure size 842.4x595.44 with 1 Axes>"
      ]
     },
     "metadata": {},
     "output_type": "display_data"
    }
   ],
   "source": [
    "#посмотрим на распределения полученных значений ctr\n",
    "sns.histplot(data = df_bucket,\n",
    "            x='bucket_ctr',\n",
    "            hue='exp_group',\n",
    "            palette = ['r','b'],\n",
    "            alpha=0.5,\n",
    "            kde=False);"
   ]
  },
  {
   "cell_type": "code",
   "execution_count": 28,
   "id": "318f9bb4-88a4-42d8-8207-997ee524236a",
   "metadata": {},
   "outputs": [
    {
     "name": "stdout",
     "output_type": "stream",
     "text": [
      "Тест Манна-Уитни на бакетном преобразовании для ctr:\n",
      "Различия не обнаружены, p-value: 0.4544725490276492\n"
     ]
    }
   ],
   "source": [
    "#тест Манна-Уитни для bucket_ctr\n",
    "statistic, pvalue = stats.mannwhitneyu(df_bucket[df_bucket.exp_group == 1].bucket_ctr, \n",
    "                   df_bucket[df_bucket.exp_group == 2].bucket_ctr, \n",
    "                   alternative = 'two-sided')\n",
    "\n",
    "print('Тест Манна-Уитни на бакетном преобразовании для ctr:')\n",
    "if pvalue > 0.05:\n",
    "    print('Не получилось отвергнуть нулевую гипотезу: различия не обнаружены, p-value', pvalue)\n",
    "else:\n",
    "    print('Отвергаем нулевую гипотезу: cтатистически значимые различия есть, p-value:', pvalue)"
   ]
  },
  {
   "cell_type": "code",
   "execution_count": 29,
   "id": "1837b26d-7db4-4485-821f-005c753946c8",
   "metadata": {},
   "outputs": [
    {
     "name": "stdout",
     "output_type": "stream",
     "text": [
      "T-тест на бакетном преобразовании:\n",
      "Различия не обнаружены, p-value: 0.4544725490276492\n"
     ]
    }
   ],
   "source": [
    "# t-тест поверх бакетного преобразования\n",
    "\n",
    "stats.ttest_ind(df_bucket[df_bucket.exp_group == 1].bucket_ctr, \n",
    "                df_bucket[df_bucket.exp_group == 2].bucket_ctr, \n",
    "                equal_var = False, \n",
    "                alternative = 'two-sided')\n",
    "\n",
    "print('T-тест на бакетном преобразовании:')\n",
    "if pvalue > 0.05:\n",
    "    print('Различия не обнаружены, p-value:', pvalue)\n",
    "else:\n",
    "    print('Статистически значимые различия, p-value:', pvalue)"
   ]
  },
  {
   "cell_type": "markdown",
   "id": "79761dc8-93bf-48f7-a2cc-0542254a58bc",
   "metadata": {},
   "source": [
    "Статистические тесты поверх бакетного преобразования не выявили различий CTR в контрольной и экспериментальной группе. Однако, на графике распределения полученных с помощью бакетного преобразования CTR видим, что CTR контрольной группы несколько больше, чем CTR экспериментальной группы."
   ]
  },
  {
   "cell_type": "markdown",
   "id": "7b987061-0e2e-493b-b318-6f87c66384f4",
   "metadata": {},
   "source": [
    "### Выводы\n",
    "\n",
    "По результатам исследования можно утверждать, что новый алгоритм рекомендации постов дал худшие результаты CTR, чем были в контрольной группе. Это доказывают проведенные с помощью пуассоновского бутстрепа анализы, а также критерия Манна-Уитни поверх бакетного преобразования. Такие же выводы мы можем сделать, посмотрев на графики распределения CTR по итогам эксперимента и глобального CTR.\n",
    "\n",
    "Утверждать окончательно, что алгоритм не полезен для компании нельзя, потому что мы видим, что распределение CTR изменилось. Нужно исследовать дальше, возможно посоветоваться с другими специалистами. Возможно изменение CTR, которое произошло в экспериментальной группы на самом деле принесет компании больше денег.\n",
    "\n",
    "На всех его вероятно раскатывать не надо. Может быть стоит провести ещё один тест. Может быть стоит посмотреть, для каких пользователей CTR стал выше: по полу, возрасту, стране, операционной системе и т.д."
   ]
  },
  {
   "cell_type": "code",
   "execution_count": null,
   "id": "ea0b908a-42a8-47b4-ade3-41b34478cf15",
   "metadata": {},
   "outputs": [],
   "source": []
  }
 ],
 "metadata": {
  "kernelspec": {
   "display_name": "Python 3 (ipykernel)",
   "language": "python",
   "name": "python3"
  },
  "language_info": {
   "codemirror_mode": {
    "name": "ipython",
    "version": 3
   },
   "file_extension": ".py",
   "mimetype": "text/x-python",
   "name": "python",
   "nbconvert_exporter": "python",
   "pygments_lexer": "ipython3",
   "version": "3.8.10"
  }
 },
 "nbformat": 4,
 "nbformat_minor": 5
}
